{
 "cells": [
  {
   "cell_type": "markdown",
   "metadata": {},
   "source": [
    "## Autofill PDF\n",
    "\n",
    "Autofill a fillable PDF form with data from a CSV file. We will use the PyPDF2 package and pandas to illustrate an example project using 2020 NBA draft prospects. "
   ]
  },
  {
   "cell_type": "markdown",
   "metadata": {},
   "source": [
    "We start by loading the packages that we'll need."
   ]
  },
  {
   "cell_type": "code",
   "execution_count": 44,
   "metadata": {},
   "outputs": [],
   "source": [
    "from PyPDF2 import PdfFileWriter, PdfFileReader\n",
    "from PyPDF2.generic import BooleanObject, NameObject, IndirectObject\n",
    "import pandas as pd"
   ]
  },
  {
   "cell_type": "markdown",
   "metadata": {},
   "source": [
    "The code used to edit the PDFs is broken up into two functions, `set_need_appearances_writer` and `create_pdf`."
   ]
  },
  {
   "cell_type": "code",
   "execution_count": 45,
   "metadata": {},
   "outputs": [],
   "source": [
    "def set_need_appearances_writer(writer):\n",
    "\n",
    "    try:\n",
    "        catalog = writer._root_object\n",
    "        if \"/AcroForm\" not in catalog:\n",
    "            writer._root_object.update({\n",
    "                NameObject(\"/AcroForm\"): IndirectObject(len(writer._objects), 0, writer)})\n",
    "\n",
    "        need_appearances = NameObject(\"/NeedAppearances\")\n",
    "        writer._root_object[\"/AcroForm\"][need_appearances] = BooleanObject(True)\n",
    "        return writer\n",
    "\n",
    "    except Exception as e:\n",
    "        print('set_need_appearances_writer() catch : ', repr(e))\n",
    "        return writer"
   ]
  },
  {
   "cell_type": "code",
   "execution_count": 46,
   "metadata": {},
   "outputs": [],
   "source": [
    "def create_pdf(infile, outfile, field_dictionary):\n",
    "\n",
    "    inputStream = open(infile, \"rb\")\n",
    "    pdf_reader = PdfFileReader(inputStream, strict=False)\n",
    "    if \"/AcroForm\" in pdf_reader.trailer[\"/Root\"]:\n",
    "        pdf_reader.trailer[\"/Root\"][\"/AcroForm\"].update(\n",
    "            {NameObject(\"/NeedAppearances\"): BooleanObject(True)})\n",
    "\n",
    "    pdf_writer = PdfFileWriter()\n",
    "    set_need_appearances_writer(pdf_writer)\n",
    "    if \"/AcroForm\" in pdf_writer._root_object:\n",
    "        pdf_writer._root_object[\"/AcroForm\"].update(\n",
    "            {NameObject(\"/NeedAppearances\"): BooleanObject(True)})\n",
    "\n",
    "    pdf_writer.addPage(pdf_reader.getPage(0))\n",
    "    pdf_writer.updatePageFormFieldValues(pdf_writer.getPage(0), field_dictionary)\n",
    "\n",
    "    outputStream = open(outfile, \"wb\")\n",
    "    pdf_writer.write(outputStream)\n",
    "    outputStream.close()\n",
    "    inputStream.close()"
   ]
  },
  {
   "cell_type": "markdown",
   "metadata": {},
   "source": [
    "If you do not already have the field names of your PDF, you can get them with the `get_headers` function."
   ]
  },
  {
   "cell_type": "code",
   "execution_count": 47,
   "metadata": {},
   "outputs": [],
   "source": [
    "def get_headers(infile):\n",
    "    inputStream = open(infile, \"rb\")\n",
    "    pdf_reader = PdfFileReader(inputStream, strict=False)\n",
    "    fields = pdf_reader.getFields().keys()\n",
    "    print('Headers needed for data file: {}'.format(list(fields)))"
   ]
  },
  {
   "cell_type": "code",
   "execution_count": 48,
   "metadata": {},
   "outputs": [
    {
     "name": "stdout",
     "output_type": "stream",
     "text": [
      "Headers needed for data file: ['Rank', 'Name', 'Position', 'Age', 'Height', 'Weight', 'Team', 'Year', 'Points', 'Rebounds', 'Assists', 'Blocks', 'Steals']\n"
     ]
    }
   ],
   "source": [
    "# Example\n",
    "get_headers('fillable_draft_profile.pdf')"
   ]
  },
  {
   "cell_type": "markdown",
   "metadata": {},
   "source": [
    "## Implementation\n",
    "And now for the implementation. We will need two additional files along with theprevious functions:\n",
    " 1. A fillable PDF.\n",
    " 2. A CSV file containing the data to enter into the PDF.\n",
    " \n",
    "If you have a PDF that is not fillable, there are programs that can add input boxes to a regular PDF. Wondershare PDFelement is one such program that is free, although it will leave a watermark on your final PDF. The CSV file should contain an initial header row that matches the field names of the fillable PDF file. The remaining rows should contain the data you want entered into each field, where each row will create a separate PDF file. "
   ]
  },
  {
   "cell_type": "markdown",
   "metadata": {},
   "source": [
    "For our example, we have a simple draft profile PDF that we will fill out for 65 NBA prospects ahead of the 2020 NBA Draft. The data is stored in a CSV file that can be previewed below. (We also converted one column's data from a float to an integer)"
   ]
  },
  {
   "cell_type": "code",
   "execution_count": 49,
   "metadata": {},
   "outputs": [
    {
     "data": {
      "text/html": [
       "<div>\n",
       "<style scoped>\n",
       "    .dataframe tbody tr th:only-of-type {\n",
       "        vertical-align: middle;\n",
       "    }\n",
       "\n",
       "    .dataframe tbody tr th {\n",
       "        vertical-align: top;\n",
       "    }\n",
       "\n",
       "    .dataframe thead th {\n",
       "        text-align: right;\n",
       "    }\n",
       "</style>\n",
       "<table border=\"1\" class=\"dataframe\">\n",
       "  <thead>\n",
       "    <tr style=\"text-align: right;\">\n",
       "      <th></th>\n",
       "      <th>Rank</th>\n",
       "      <th>Name</th>\n",
       "      <th>Position</th>\n",
       "      <th>Team</th>\n",
       "      <th>Check Box1</th>\n",
       "      <th>Check Box2</th>\n",
       "      <th>Height</th>\n",
       "      <th>Weight</th>\n",
       "      <th>Year</th>\n",
       "      <th>Age</th>\n",
       "      <th>Points</th>\n",
       "      <th>Rebounds</th>\n",
       "      <th>Assists</th>\n",
       "      <th>Blocks</th>\n",
       "      <th>Steals</th>\n",
       "    </tr>\n",
       "  </thead>\n",
       "  <tbody>\n",
       "    <tr>\n",
       "      <th>0</th>\n",
       "      <td>1</td>\n",
       "      <td>LaMelo Ball</td>\n",
       "      <td>PG</td>\n",
       "      <td>Illawarra</td>\n",
       "      <td>No</td>\n",
       "      <td>Yes</td>\n",
       "      <td>6'7\"</td>\n",
       "      <td>190 lbs</td>\n",
       "      <td>International</td>\n",
       "      <td>19.1 yrs</td>\n",
       "      <td>19.6</td>\n",
       "      <td>8.7</td>\n",
       "      <td>7.9</td>\n",
       "      <td>0.1</td>\n",
       "      <td>1.8</td>\n",
       "    </tr>\n",
       "    <tr>\n",
       "      <th>1</th>\n",
       "      <td>2</td>\n",
       "      <td>Onyeka Okongwu</td>\n",
       "      <td>PF/C</td>\n",
       "      <td>USC</td>\n",
       "      <td>Yes</td>\n",
       "      <td>No</td>\n",
       "      <td>6'9\"</td>\n",
       "      <td>245 lbs</td>\n",
       "      <td>Freshman</td>\n",
       "      <td>19.8 yrs</td>\n",
       "      <td>19.0</td>\n",
       "      <td>10.2</td>\n",
       "      <td>1.3</td>\n",
       "      <td>3.2</td>\n",
       "      <td>1.4</td>\n",
       "    </tr>\n",
       "    <tr>\n",
       "      <th>2</th>\n",
       "      <td>3</td>\n",
       "      <td>Killian Hayes</td>\n",
       "      <td>PG/SG</td>\n",
       "      <td>Ratiopharm Ulm</td>\n",
       "      <td>No</td>\n",
       "      <td>Yes</td>\n",
       "      <td>6'5\"</td>\n",
       "      <td>187 lbs</td>\n",
       "      <td>International</td>\n",
       "      <td>19.2 yrs</td>\n",
       "      <td>16.8</td>\n",
       "      <td>4.1</td>\n",
       "      <td>7.8</td>\n",
       "      <td>0.4</td>\n",
       "      <td>2.1</td>\n",
       "    </tr>\n",
       "    <tr>\n",
       "      <th>3</th>\n",
       "      <td>4</td>\n",
       "      <td>James Wiseman</td>\n",
       "      <td>C</td>\n",
       "      <td>Memphis</td>\n",
       "      <td>Yes</td>\n",
       "      <td>No</td>\n",
       "      <td>7'1\"</td>\n",
       "      <td>237 lbs</td>\n",
       "      <td>Freshman</td>\n",
       "      <td>19.5 yrs</td>\n",
       "      <td>30.8</td>\n",
       "      <td>16.7</td>\n",
       "      <td>0.5</td>\n",
       "      <td>4.7</td>\n",
       "      <td>0.5</td>\n",
       "    </tr>\n",
       "    <tr>\n",
       "      <th>4</th>\n",
       "      <td>5</td>\n",
       "      <td>Tyrese Haliburton</td>\n",
       "      <td>PG</td>\n",
       "      <td>Iowa State</td>\n",
       "      <td>Yes</td>\n",
       "      <td>No</td>\n",
       "      <td>6'5\"</td>\n",
       "      <td>175 lbs</td>\n",
       "      <td>Sophomore</td>\n",
       "      <td>20.6 yrs</td>\n",
       "      <td>14.9</td>\n",
       "      <td>5.8</td>\n",
       "      <td>6.3</td>\n",
       "      <td>0.7</td>\n",
       "      <td>2.4</td>\n",
       "    </tr>\n",
       "  </tbody>\n",
       "</table>\n",
       "</div>"
      ],
      "text/plain": [
       "   Rank               Name Position             Team Check Box1 Check Box2  \\\n",
       "0     1        LaMelo Ball      PG         Illawarra         No        Yes   \n",
       "1     2     Onyeka Okongwu    PF/C               USC        Yes         No   \n",
       "2     3      Killian Hayes   PG/SG    Ratiopharm Ulm         No        Yes   \n",
       "3     4      James Wiseman       C           Memphis        Yes         No   \n",
       "4     5  Tyrese Haliburton      PG        Iowa State        Yes         No   \n",
       "\n",
       "  Height   Weight           Year       Age  Points  Rebounds  Assists  Blocks  \\\n",
       "0   6'7\"  190 lbs  International  19.1 yrs    19.6       8.7      7.9     0.1   \n",
       "1   6'9\"  245 lbs       Freshman  19.8 yrs    19.0      10.2      1.3     3.2   \n",
       "2   6'5\"  187 lbs  International  19.2 yrs    16.8       4.1      7.8     0.4   \n",
       "3   7'1\"  237 lbs       Freshman  19.5 yrs    30.8      16.7      0.5     4.7   \n",
       "4   6'5\"  175 lbs      Sophomore  20.6 yrs    14.9       5.8      6.3     0.7   \n",
       "\n",
       "   Steals  \n",
       "0     1.8  \n",
       "1     1.4  \n",
       "2     2.1  \n",
       "3     0.5  \n",
       "4     2.4  "
      ]
     },
     "execution_count": 49,
     "metadata": {},
     "output_type": "execute_result"
    }
   ],
   "source": [
    "df = pd.read_csv('nba_info.csv')\n",
    "df.astype({'Rank': 'int64'})\n",
    "df.head()"
   ]
  },
  {
   "cell_type": "markdown",
   "metadata": {},
   "source": [
    "Once your dataframe is formatted appropriately, you can fill in your PDFs. The `create_pdf` function takes three inputs: the fillable PDF file, the name of the output file, and a dictionary of the data to input. This dictionary's keys correspond to the names of the PDF fields (also the dataframe headers) and the values correspond to the data to be entered. The code cell below organizes the dataframe into the appropriate dictionary and creates the PDF output files. "
   ]
  },
  {
   "cell_type": "code",
   "execution_count": 50,
   "metadata": {},
   "outputs": [
    {
     "name": "stdout",
     "output_type": "stream",
     "text": [
      "File created for: LaMelo Ball\n",
      "File created for: Onyeka Okongwu\n",
      "File created for: Killian Hayes\n",
      "File created for: James Wiseman\n",
      "File created for: Tyrese Haliburton\n",
      "File created for: Obi Toppin\n",
      "File created for: Anthony Edwards\n",
      "File created for: Deni Avdija\n",
      "File created for: Devin Vassell\n",
      "File created for: Aleksej Pokusevski\n",
      "File created for: RJ Hampton\n",
      "File created for: Josh Green\n",
      "File created for: Isaac Okoro\n",
      "File created for: Tyler Bey\n",
      "File created for: Jalen Smith\n",
      "File created for: Saddiq Bey\n",
      "File created for: Paul Reed\n",
      "File created for: Kira Lewis Jr.\n",
      "File created for: Cole Anthony\n",
      "File created for: Jahmi'us Ramsey\n",
      "File created for: Tyrese Maxey\n",
      "File created for: Aaron Nesmith\n",
      "File created for: Nico Mannion\n",
      "File created for: Theo Maledon\n",
      "File created for: Tre Jones\n",
      "File created for: Tyrell Terry\n",
      "File created for: Reggie Perry\n",
      "File created for: Vernon Carey Jr.\n",
      "File created for: Isaiah Stewart\n",
      "File created for: Cassius Stanley\n",
      "File created for: Leandro Bolmaro\n",
      "File created for: Desmond Bane\n",
      "File created for: Killian Tillie\n",
      "File created for: Xavier Tillman\n",
      "File created for: Patrick Williams\n",
      "File created for: Daniel Oturu\n",
      "File created for: Devon Dotson\n",
      "File created for: Precious Achiuwa\n",
      "File created for: Immanuel Quickley\n",
      "File created for: Jaden McDaniels\n",
      "File created for: Malachi Flynn\n",
      "File created for: Markus Howard\n",
      "File created for: Zeke Nnaji\n",
      "File created for: Jordan Nwora\n",
      "File created for: Elijah Hughes\n",
      "File created for: Abdoulaye N'Doye\n",
      "File created for: Cassius Winston\n",
      "File created for: Udoka Azubuike\n",
      "File created for: Payton Pritchard\n",
      "File created for: Robert Woodard II\n",
      "File created for: Isaiah Joe\n",
      "File created for: Grant Riller\n",
      "File created for: Ashton Hagans\n",
      "File created for: Skylar Mays\n",
      "File created for: Sam Merrill\n",
      "File created for: Kaleb Wesson\n",
      "File created for: Yam Madar\n",
      "File created for: Kenyon Martin Jr.\n",
      "File created for: Paul Eboua\n",
      "File created for: Tres Tinkle\n",
      "File created for: Nick Richards\n",
      "File created for: Myles Powell\n",
      "File created for: Trevelin Queen\n",
      "File created for: Jay Scrubb\n",
      "File created for: Anfernee McLemore\n"
     ]
    }
   ],
   "source": [
    "data =  [row.to_dict() for _, row in df.iterrows()]\n",
    "infile = \"fillable_draft_profile.pdf\"\n",
    "\n",
    "for person in data:\n",
    "    outfile = 'output/' + person['Name'] + \" out.pdf\"\n",
    "    create_pdf(infile, outfile, person)\n",
    "    print(\"File created for:\", person['Name'])"
   ]
  },
  {
   "cell_type": "markdown",
   "metadata": {},
   "source": [
    "Done."
   ]
  }
 ],
 "metadata": {
  "kernelspec": {
   "display_name": "Python 3",
   "language": "python",
   "name": "python3"
  },
  "language_info": {
   "codemirror_mode": {
    "name": "ipython",
    "version": 3
   },
   "file_extension": ".py",
   "mimetype": "text/x-python",
   "name": "python",
   "nbconvert_exporter": "python",
   "pygments_lexer": "ipython3",
   "version": "3.7.6"
  }
 },
 "nbformat": 4,
 "nbformat_minor": 4
}
